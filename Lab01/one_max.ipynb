{
 "cells": [
  {
   "cell_type": "code",
   "execution_count": 28,
   "metadata": {},
   "outputs": [],
   "source": [
    "import numpy as np\n",
    "import random"
   ]
  },
  {
   "cell_type": "code",
   "execution_count": 29,
   "metadata": {},
   "outputs": [],
   "source": [
    "l = 10\n",
    "n = 16"
   ]
  },
  {
   "cell_type": "markdown",
   "metadata": {},
   "source": [
    "# Generate"
   ]
  },
  {
   "cell_type": "code",
   "execution_count": 30,
   "metadata": {},
   "outputs": [],
   "source": [
    "def Generate(n, l):\n",
    "    arr = np.random.randint(2, size = (n, l))\n",
    "    return arr"
   ]
  },
  {
   "cell_type": "code",
   "execution_count": 31,
   "metadata": {},
   "outputs": [
    {
     "data": {
      "text/plain": [
       "array([[0, 0, 1, 0, 0, 0, 0, 1, 0, 0],\n",
       "       [1, 0, 0, 1, 1, 1, 1, 1, 1, 1],\n",
       "       [1, 1, 1, 0, 1, 0, 0, 0, 1, 0],\n",
       "       [1, 1, 0, 0, 1, 0, 1, 0, 0, 0],\n",
       "       [0, 0, 1, 1, 0, 0, 0, 1, 0, 0],\n",
       "       [0, 0, 0, 1, 0, 1, 0, 0, 0, 1],\n",
       "       [0, 1, 0, 1, 0, 1, 0, 0, 1, 1],\n",
       "       [0, 1, 0, 1, 0, 0, 0, 0, 1, 1],\n",
       "       [1, 0, 0, 1, 1, 1, 0, 1, 1, 1],\n",
       "       [1, 0, 1, 0, 0, 1, 0, 1, 0, 1],\n",
       "       [1, 0, 1, 0, 0, 0, 1, 0, 0, 0],\n",
       "       [1, 0, 1, 1, 0, 0, 0, 0, 1, 1],\n",
       "       [0, 0, 0, 1, 1, 1, 1, 0, 0, 1],\n",
       "       [1, 1, 0, 0, 1, 0, 1, 0, 1, 0],\n",
       "       [1, 1, 0, 0, 1, 1, 1, 1, 1, 0],\n",
       "       [0, 1, 0, 0, 0, 1, 1, 1, 0, 1]])"
      ]
     },
     "execution_count": 31,
     "metadata": {},
     "output_type": "execute_result"
    }
   ],
   "source": [
    "parents = Generate(n, l)\n",
    "parents"
   ]
  },
  {
   "cell_type": "markdown",
   "metadata": {},
   "source": [
    "## Crossover"
   ]
  },
  {
   "cell_type": "code",
   "execution_count": 32,
   "metadata": {},
   "outputs": [],
   "source": [
    "def Crossover(parents, n, l):\n",
    "    i = 0\n",
    "    offspring = parents.copy()\n",
    "    while (i < n - 1):\n",
    "        for j in range(0, l):\n",
    "            if (random.uniform(0, 1) < 0.5):\n",
    "                tm = offspring[i][j]\n",
    "                offspring[i][j] = offspring[i + 1][j]\n",
    "                offspring[i + 1][j] = tm\n",
    "        i += 2\n",
    "    return offspring"
   ]
  },
  {
   "cell_type": "markdown",
   "metadata": {},
   "source": [
    "## Check Convergence"
   ]
  },
  {
   "cell_type": "code",
   "execution_count": 33,
   "metadata": {},
   "outputs": [],
   "source": [
    "def Compare_2_Individual(p1, p2):\n",
    "    for i in range(l):\n",
    "        if (p1[i] != p2[i]):\n",
    "            return False\n",
    "    return True"
   ]
  },
  {
   "cell_type": "code",
   "execution_count": 34,
   "metadata": {},
   "outputs": [],
   "source": [
    "def Check_Convergence(n):\n",
    "    for i in range(n - 1):\n",
    "        if (Compare_2_Individual(parents[i], parents[i + 1]) == False):\n",
    "            return False\n",
    "    return True"
   ]
  },
  {
   "cell_type": "markdown",
   "metadata": {},
   "source": [
    "## Shuffle"
   ]
  },
  {
   "cell_type": "code",
   "execution_count": 35,
   "metadata": {},
   "outputs": [],
   "source": [
    "def Pool(parents, offspring):\n",
    "    return np.vstack((parents, offspring))"
   ]
  },
  {
   "cell_type": "code",
   "execution_count": 36,
   "metadata": {},
   "outputs": [],
   "source": [
    "def Onemax(arr):\n",
    "    s = 0\n",
    "    for i in arr:\n",
    "        s += i\n",
    "    return s"
   ]
  },
  {
   "cell_type": "code",
   "execution_count": 37,
   "metadata": {},
   "outputs": [],
   "source": [
    "def Shuffle(n):\n",
    "    arr = np.arange(2 * n)\n",
    "    np.random.shuffle(arr)\n",
    "    return arr"
   ]
  },
  {
   "cell_type": "markdown",
   "metadata": {},
   "source": [
    "## Selection"
   ]
  },
  {
   "cell_type": "code",
   "execution_count": 38,
   "metadata": {},
   "outputs": [],
   "source": [
    "def TournamentSelection(parents, fitness_parents, pool, fitness_pool, n):\n",
    "    cnt = -1\n",
    "    for k in range(2):\n",
    "        si = np.arange(2 * n)\n",
    "        np.random.shuffle(si)\n",
    "        max_fitness = 0\n",
    "        max_index = -1\n",
    " \n",
    "        for i in range(2 * n):\n",
    "            if (i % 4 == 3):\n",
    "                cnt += 1\n",
    "                parents[cnt] = pool[max_index]\n",
    "                fitness_parents[cnt] = fitness_pool[max_index]\n",
    "                max_fitness = 0\n",
    "                max_index = -1\n",
    "            else:\n",
    "                if (fitness_pool[si[i]] >= max_fitness):\n",
    "                    max_fitness = fitness_pool[si[i]]\n",
    "                    max_index = si[i]\n",
    "    return parents"
   ]
  },
  {
   "cell_type": "markdown",
   "metadata": {},
   "source": [
    "## Main"
   ]
  },
  {
   "cell_type": "code",
   "execution_count": 39,
   "metadata": {},
   "outputs": [
    {
     "name": "stdout",
     "output_type": "stream",
     "text": [
      "[[0 0 1 0 0 0 0 1 0 0]\n",
      " [1 0 0 1 1 1 1 1 1 1]\n",
      " [1 1 1 0 1 0 0 0 1 0]\n",
      " [1 1 0 0 1 0 1 0 0 0]\n",
      " [0 0 1 1 0 0 0 1 0 0]\n",
      " [0 0 0 1 0 1 0 0 0 1]\n",
      " [0 1 0 1 0 1 0 0 1 1]\n",
      " [0 1 0 1 0 0 0 0 1 1]\n",
      " [1 0 0 1 1 1 0 1 1 1]\n",
      " [1 0 1 0 0 1 0 1 0 1]\n",
      " [1 0 1 0 0 0 1 0 0 0]\n",
      " [1 0 1 1 0 0 0 0 1 1]\n",
      " [0 0 0 1 1 1 1 0 0 1]\n",
      " [1 1 0 0 1 0 1 0 1 0]\n",
      " [1 1 0 0 1 1 1 1 1 0]\n",
      " [0 1 0 0 0 1 1 1 0 1]]\n",
      "\n",
      "[[0 0 1 1 0 1 0 1 0 1]\n",
      " [1 0 1 1 0 1 0 1 0 1]\n",
      " [1 1 0 1 1 1 1 0 1 0]\n",
      " [1 1 1 0 1 0 1 0 1 0]\n",
      " [0 1 0 1 0 1 0 0 1 1]\n",
      " [1 1 0 0 1 1 1 1 1 0]\n",
      " [1 0 0 0 1 1 0 1 1 1]\n",
      " [0 0 1 0 1 1 1 1 1 0]\n",
      " [0 1 0 0 0 1 1 1 0 1]\n",
      " [1 0 1 0 0 1 0 1 0 1]\n",
      " [1 1 0 0 1 1 1 1 1 0]\n",
      " [1 0 0 1 1 1 0 1 1 1]\n",
      " [1 1 0 1 1 1 1 0 1 0]\n",
      " [1 0 1 1 0 0 0 0 1 1]\n",
      " [1 1 0 0 1 1 1 1 1 0]\n",
      " [1 1 0 0 1 0 1 0 1 0]]\n",
      "[[1 0 0 1 1 1 0 1 1 1]\n",
      " [1 0 1 0 1 1 0 1 1 1]\n",
      " [1 1 0 0 1 1 1 1 1 0]\n",
      " [1 0 1 1 0 0 0 0 1 1]\n",
      " [1 1 1 1 1 1 1 0 1 0]\n",
      " [1 1 0 1 1 1 1 0 1 0]\n",
      " [1 1 1 1 0 0 1 0 1 1]\n",
      " [1 1 0 0 1 1 1 1 1 0]\n",
      " [1 1 0 0 1 1 1 1 1 0]\n",
      " [1 1 0 0 0 1 1 0 1 1]\n",
      " [1 0 1 1 0 1 0 1 0 1]\n",
      " [1 0 0 1 1 1 0 1 1 1]\n",
      " [1 1 1 1 1 1 1 0 1 0]\n",
      " [1 1 0 0 1 0 1 0 1 0]\n",
      " [1 1 0 1 1 1 1 0 1 0]\n",
      " [1 0 0 1 1 1 0 1 1 1]]\n",
      "[[1 1 0 1 1 1 1 1 1 1]\n",
      " [1 0 1 1 1 1 0 1 1 1]\n",
      " [1 0 1 1 1 1 0 1 1 1]\n",
      " [1 1 0 1 1 1 1 1 1 1]\n",
      " [1 0 1 0 1 1 0 1 1 1]\n",
      " [1 1 0 1 1 1 1 0 1 0]\n",
      " [1 1 1 1 1 1 1 0 1 0]\n",
      " [1 0 0 1 1 1 0 1 1 1]\n",
      " [1 0 0 1 1 1 0 1 1 1]\n",
      " [1 1 0 1 1 1 1 1 1 1]\n",
      " [1 0 0 1 1 1 0 1 1 1]\n",
      " [1 0 1 1 1 1 0 1 1 1]\n",
      " [1 1 0 0 1 1 1 0 1 1]\n",
      " [1 1 1 1 1 1 1 0 1 0]\n",
      " [1 1 0 1 1 1 1 1 1 1]\n",
      " [1 1 0 0 1 1 1 1 1 0]]\n",
      "[[1 1 1 1 1 1 1 0 1 1]\n",
      " [1 1 0 0 1 1 1 0 1 1]\n",
      " [1 1 1 1 1 1 0 1 1 1]\n",
      " [1 1 0 1 1 1 1 1 1 1]\n",
      " [1 0 1 1 1 1 0 1 1 1]\n",
      " [1 1 0 1 1 1 1 1 1 1]\n",
      " [1 1 0 1 1 1 1 1 1 1]\n",
      " [1 0 1 1 1 1 0 1 1 1]\n",
      " [1 1 0 1 1 1 1 1 1 1]\n",
      " [1 1 0 1 1 1 1 1 1 1]\n",
      " [1 1 0 1 1 1 1 1 1 1]\n",
      " [1 1 0 1 1 1 1 1 1 1]\n",
      " [1 1 0 1 1 1 1 1 1 1]\n",
      " [1 1 1 1 1 1 0 1 1 1]\n",
      " [1 1 1 1 1 1 1 0 1 1]\n",
      " [1 1 0 1 1 1 0 1 1 1]]\n",
      "[[1 1 0 1 1 1 1 1 1 1]\n",
      " [1 1 1 1 1 1 0 1 1 1]\n",
      " [1 1 0 1 1 1 1 1 1 1]\n",
      " [1 1 0 1 1 1 1 1 1 1]\n",
      " [1 1 1 1 1 1 1 1 1 1]\n",
      " [1 1 1 1 1 1 1 1 1 1]\n",
      " [1 0 0 1 1 1 1 1 1 1]\n",
      " [1 1 0 1 1 1 1 1 1 1]\n",
      " [1 1 0 1 1 1 1 1 1 1]\n",
      " [1 1 0 1 1 1 1 1 1 1]\n",
      " [1 1 0 1 1 1 1 1 1 1]\n",
      " [1 1 0 1 1 1 1 1 1 1]\n",
      " [1 1 1 1 1 1 0 1 1 1]\n",
      " [1 1 1 1 1 1 1 0 1 1]\n",
      " [1 1 0 1 1 1 1 1 1 1]\n",
      " [1 1 1 1 1 1 1 1 1 1]]\n",
      "[[1 1 1 1 1 1 1 1 1 1]\n",
      " [1 1 0 1 1 1 1 1 1 1]\n",
      " [1 1 1 1 1 1 0 1 1 1]\n",
      " [1 1 1 1 1 1 1 1 1 1]\n",
      " [1 1 1 1 1 1 1 1 1 1]\n",
      " [1 1 0 1 1 1 1 1 1 1]\n",
      " [1 1 1 1 1 1 1 0 1 1]\n",
      " [1 1 1 1 1 1 1 1 1 1]\n",
      " [1 1 0 1 1 1 1 1 1 1]\n",
      " [1 1 0 1 1 1 1 1 1 1]\n",
      " [1 1 1 1 1 1 1 1 1 1]\n",
      " [1 1 0 1 1 1 1 1 1 1]\n",
      " [1 1 0 1 1 1 1 1 1 1]\n",
      " [1 1 1 1 1 1 1 1 1 1]\n",
      " [1 1 1 1 1 1 1 1 1 1]\n",
      " [1 1 1 1 1 1 1 1 1 1]]\n",
      "[[1 1 1 1 1 1 1 1 1 1]\n",
      " [1 1 1 1 1 1 1 1 1 1]\n",
      " [1 1 1 1 1 1 1 1 1 1]\n",
      " [1 1 1 1 1 1 1 1 1 1]\n",
      " [1 1 1 1 1 1 1 1 1 1]\n",
      " [1 1 1 1 1 1 1 1 1 1]\n",
      " [1 1 1 1 1 1 1 1 1 1]\n",
      " [1 1 1 1 1 1 1 1 1 1]\n",
      " [1 1 1 1 1 1 1 1 1 1]\n",
      " [1 1 1 1 1 1 1 1 1 1]\n",
      " [1 1 1 1 1 1 1 1 1 1]\n",
      " [1 1 1 1 1 1 1 1 1 1]\n",
      " [1 1 0 1 1 1 1 1 1 1]\n",
      " [1 1 0 1 1 1 1 1 1 1]\n",
      " [1 1 1 1 1 1 1 1 1 1]\n",
      " [1 1 1 1 1 1 1 1 1 1]]\n",
      "[[1 1 1 1 1 1 1 1 1 1]\n",
      " [1 1 1 1 1 1 1 1 1 1]\n",
      " [1 1 1 1 1 1 1 1 1 1]\n",
      " [1 1 1 1 1 1 1 1 1 1]\n",
      " [1 1 1 1 1 1 1 1 1 1]\n",
      " [1 1 1 1 1 1 1 1 1 1]\n",
      " [1 1 1 1 1 1 1 1 1 1]\n",
      " [1 1 1 1 1 1 1 1 1 1]\n",
      " [1 1 1 1 1 1 1 1 1 1]\n",
      " [1 1 1 1 1 1 1 1 1 1]\n",
      " [1 1 1 1 1 1 1 1 1 1]\n",
      " [1 1 1 1 1 1 1 1 1 1]\n",
      " [1 1 1 1 1 1 1 1 1 1]\n",
      " [1 1 1 1 1 1 1 1 1 1]\n",
      " [1 1 1 1 1 1 1 1 1 1]\n",
      " [1 1 1 1 1 1 1 1 1 1]]\n"
     ]
    }
   ],
   "source": [
    "print (parents)\n",
    "print('')\n",
    "while (Check_Convergence(n) == False):\n",
    "    offspring = Crossover(parents, n, l)\n",
    "    pool = Pool(parents, offspring)\n",
    "    \n",
    "    fitness_parents = []\n",
    "    for i in range(n):\n",
    "        fitness_parents.append(Onemax(parents[i]))\n",
    "        \n",
    "    fitness_offspring = []\n",
    "    for i in range(n):\n",
    "        fitness_offspring.append(Onemax(offspring[i]))\n",
    "        \n",
    "    fitness_pool = fitness_parents.copy()\n",
    "    for i in range (n):\n",
    "        fitness_pool.append(fitness_offspring[i])\n",
    "    \n",
    "    parents = TournamentSelection(parents, fitness_parents, pool, fitness_pool, n)\n",
    "    print (parents)"
   ]
  },
  {
   "cell_type": "markdown",
   "metadata": {},
   "source": [
    "## Result"
   ]
  },
  {
   "cell_type": "code",
   "execution_count": 40,
   "metadata": {},
   "outputs": [
    {
     "data": {
      "text/plain": [
       "array([[1, 1, 1, 1, 1, 1, 1, 1, 1, 1],\n",
       "       [1, 1, 1, 1, 1, 1, 1, 1, 1, 1],\n",
       "       [1, 1, 1, 1, 1, 1, 1, 1, 1, 1],\n",
       "       [1, 1, 1, 1, 1, 1, 1, 1, 1, 1],\n",
       "       [1, 1, 1, 1, 1, 1, 1, 1, 1, 1],\n",
       "       [1, 1, 1, 1, 1, 1, 1, 1, 1, 1],\n",
       "       [1, 1, 1, 1, 1, 1, 1, 1, 1, 1],\n",
       "       [1, 1, 1, 1, 1, 1, 1, 1, 1, 1],\n",
       "       [1, 1, 1, 1, 1, 1, 1, 1, 1, 1],\n",
       "       [1, 1, 1, 1, 1, 1, 1, 1, 1, 1],\n",
       "       [1, 1, 1, 1, 1, 1, 1, 1, 1, 1],\n",
       "       [1, 1, 1, 1, 1, 1, 1, 1, 1, 1],\n",
       "       [1, 1, 1, 1, 1, 1, 1, 1, 1, 1],\n",
       "       [1, 1, 1, 1, 1, 1, 1, 1, 1, 1],\n",
       "       [1, 1, 1, 1, 1, 1, 1, 1, 1, 1],\n",
       "       [1, 1, 1, 1, 1, 1, 1, 1, 1, 1]])"
      ]
     },
     "execution_count": 40,
     "metadata": {},
     "output_type": "execute_result"
    }
   ],
   "source": [
    "parents"
   ]
  },
  {
   "cell_type": "code",
   "execution_count": null,
   "metadata": {},
   "outputs": [],
   "source": []
  }
 ],
 "metadata": {
  "kernelspec": {
   "display_name": "Python 3",
   "language": "python",
   "name": "python3"
  },
  "language_info": {
   "codemirror_mode": {
    "name": "ipython",
    "version": 3
   },
   "file_extension": ".py",
   "mimetype": "text/x-python",
   "name": "python",
   "nbconvert_exporter": "python",
   "pygments_lexer": "ipython3",
   "version": "3.7.4"
  }
 },
 "nbformat": 4,
 "nbformat_minor": 4
}
